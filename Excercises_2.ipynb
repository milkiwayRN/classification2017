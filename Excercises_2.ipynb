{
 "cells": [
  {
   "cell_type": "code",
   "execution_count": 1,
   "metadata": {
    "collapsed": true
   },
   "outputs": [],
   "source": [
    "import numpy as np\n",
    "import scipy as sp\n",
    "import matplotlib.pyplot as plt\n",
    "import seaborn as sns\n",
    "\n",
    "%matplotlib inline"
   ]
  },
  {
   "cell_type": "markdown",
   "metadata": {},
   "source": [
    "# 1. Работа с массивами NumPy"
   ]
  },
  {
   "cell_type": "markdown",
   "metadata": {},
   "source": [
    "**N. Все упражнения ниже нужно делать без использования циклов Python**\n",
    "\n",
    "**1.** Cоздать вектор\n",
    "\n",
    "$$(2, \\frac{2^2}{2}, \\ldots, \\frac{2^{20}}{20})$$\n",
    "\n",
    "Можно использовать функции [np.arange()](http://docs.scipy.org/doc/numpy/reference/generated/numpy.arange.html), [np.ones()](http://docs.scipy.org/doc/numpy/reference/generated/numpy.ones.html)"
   ]
  },
  {
   "cell_type": "code",
   "execution_count": 105,
   "metadata": {
    "collapsed": false
   },
   "outputs": [
    {
     "name": "stdout",
     "output_type": "stream",
     "text": [
      "[  2.00000000e+00   2.00000000e+00   2.66666667e+00   4.00000000e+00\n",
      "   6.40000000e+00   1.06666667e+01   1.82857143e+01   3.20000000e+01\n",
      "   5.68888889e+01   1.02400000e+02   1.86181818e+02   3.41333333e+02\n",
      "   6.30153846e+02   1.17028571e+03   2.18453333e+03   4.09600000e+03\n",
      "   7.71011765e+03   1.45635556e+04   2.75941053e+04   5.24288000e+04]\n"
     ]
    }
   ],
   "source": [
    "## your code\n",
    "def func1(x):\n",
    "    return (2**x)/x\n",
    "a = np.arange(1,21)\n",
    "print(func1(a))"
   ]
  },
  {
   "cell_type": "markdown",
   "metadata": {},
   "source": [
    "**2.** Посчитать:\n",
    "\n",
    "$$\\sum\\limits_{i=0}^{5}{0.1^{3i}0.2^{4i}}$$\n"
   ]
  },
  {
   "cell_type": "code",
   "execution_count": 107,
   "metadata": {
    "collapsed": false
   },
   "outputs": [
    {
     "name": "stdout",
     "output_type": "stream",
     "text": [
      "1.0000016\n"
     ]
    }
   ],
   "source": [
    "## your code\n",
    "def func2(x):\n",
    "    return 0.1**(3*x)\n",
    "def func3(x):\n",
    "    return 0.2**(4*x)\n",
    "a = np.arange(0,6)\n",
    "x = func2(a)\n",
    "y = func3(a)\n",
    "print((x*y).sum())\n"
   ]
  },
  {
   "cell_type": "markdown",
   "metadata": {},
   "source": [
    "**3.** Создать нулевую матрицe $8 \\times 8$, и заполнить её единицами в шахматном порядке."
   ]
  },
  {
   "cell_type": "code",
   "execution_count": 30,
   "metadata": {
    "collapsed": false
   },
   "outputs": [
    {
     "name": "stdout",
     "output_type": "stream",
     "text": [
      "[[ 1.  0.  1.  0.  1.  0.  1.  0.]\n",
      " [ 0.  1.  0.  1.  0.  1.  0.  1.]\n",
      " [ 1.  0.  1.  0.  1.  0.  1.  0.]\n",
      " [ 0.  1.  0.  1.  0.  1.  0.  1.]\n",
      " [ 1.  0.  1.  0.  1.  0.  1.  0.]\n",
      " [ 0.  1.  0.  1.  0.  1.  0.  1.]\n",
      " [ 1.  0.  1.  0.  1.  0.  1.  0.]\n",
      " [ 0.  1.  0.  1.  0.  1.  0.  1.]]\n"
     ]
    }
   ],
   "source": [
    "## your code\n",
    "a3 = np.zeros((8,8))\n",
    "a3[0:8:2,0:8:2] = 1\n",
    "a3[1:8:2,1:8:2] = 1\n",
    "print(a3)"
   ]
  },
  {
   "cell_type": "markdown",
   "metadata": {},
   "source": [
    "**4.** Есть 5 точек в декартовой системе координат (в виде матрицы $X$ размерностью $5 \\times 2$), сконвертируйте эти точки в полярную систему координат."
   ]
  },
  {
   "cell_type": "code",
   "execution_count": 59,
   "metadata": {
    "collapsed": false
   },
   "outputs": [
    {
     "name": "stdout",
     "output_type": "stream",
     "text": [
      "[[ 0.77926198  1.25108833]\n",
      " [ 0.72606549  1.25491639]\n",
      " [ 0.71634964  1.54074209]\n",
      " [ 1.07643419  0.95180427]\n",
      " [ 0.22592505  1.12314727]]\n"
     ]
    }
   ],
   "source": [
    "X = np.random.random((5, 2))\n",
    "Y = np.zeros((5,2))\n",
    "Y[:,0] = np.sqrt( X[:,0]**2 + X[:,1]**2)\n",
    "Y[:,1] = np.arctan(X[:,1]/X[:,0])\n",
    "print(Y)\n",
    "\n",
    "## your code"
   ]
  },
  {
   "cell_type": "markdown",
   "metadata": {},
   "source": [
    "**5.** Найдите индексы максимального элемента в случайной матрице $10 \\times 10$.\n",
    "\n",
    "Cм. [np.argmax()](http://docs.scipy.org/doc/numpy/reference/generated/numpy.argmax.html)."
   ]
  },
  {
   "cell_type": "code",
   "execution_count": 103,
   "metadata": {
    "collapsed": false
   },
   "outputs": [
    {
     "name": "stdout",
     "output_type": "stream",
     "text": [
      "91\n",
      "[ 9 , 1 ]\n",
      "0.992161769615\n",
      "0.992161769615\n"
     ]
    }
   ],
   "source": [
    "X = np.random.random((10, 10))\n",
    "print(np.argmax(X))\n",
    "print(\"[\",np.argmax(X)//10,\",\",np.argmax(X)%10,\"]\")\n",
    "print(X.reshape((100))[np.argmax(X)])\n",
    "print(X[np.argmax(X)//10,np.argmax(X)%10])\n",
    "## your code"
   ]
  },
  {
   "cell_type": "markdown",
   "metadata": {},
   "source": [
    "**6.** Есть 10 точек ($X$) и ещё одна ($y$). Найти в $X$ ближайшую к $y$ точку."
   ]
  },
  {
   "cell_type": "code",
   "execution_count": 73,
   "metadata": {
    "collapsed": false
   },
   "outputs": [
    {
     "name": "stdout",
     "output_type": "stream",
     "text": [
      "0.0405269674008\n",
      "[ 0.90090337  0.54275211  0.77056128  0.56757014  0.04052697  0.30011381\n",
      "  0.62952583  0.12202035  0.12378448  0.11199478]\n"
     ]
    }
   ],
   "source": [
    "X = np.random.random((10, 2))\n",
    "y = np.random.random((1, 2))\n",
    "r = X - y\n",
    "d = np.sqrt( r[:,0]**2 + r[:,1]**2)\n",
    "print(d[np.argmin(d)])\n",
    "print(d)\n",
    "\n",
    "## your code"
   ]
  },
  {
   "cell_type": "markdown",
   "metadata": {},
   "source": [
    "**7.** Дана функция:\n",
    "\n",
    "$$\n",
    " \\begin{cases}\n",
    "    x^2 + 2x + 6, & x < 0  \\\\\n",
    "    x + 6, & 0 \\le x \\le 2 \\\\\n",
    "    x^2 + 4x - 4, & x \\ge 2\n",
    " \\end{cases}\n",
    "$$\n",
    "\n",
    "Постройте массив из её значений на  $-3 \\le x \\le 3$."
   ]
  },
  {
   "cell_type": "code",
   "execution_count": 51,
   "metadata": {
    "collapsed": false
   },
   "outputs": [
    {
     "name": "stdout",
     "output_type": "stream",
     "text": [
      "[  9.     8.61   8.24   7.89   7.56   7.25   6.96   6.69   6.44   6.21   6.\n",
      "   5.81   5.64   5.49   5.36   5.25   5.16   5.09   5.04   5.01   5.     5.01\n",
      "   5.04   5.09   5.16   5.25   5.36   5.49   5.64   5.81   6.     6.1    6.2\n",
      "   6.3    6.4    6.5    6.6    6.7    6.8    6.9    7.     7.1    7.2    7.3\n",
      "   7.4    7.5    7.6    7.7    7.8    7.9    8.     8.81   9.64  10.49\n",
      "  11.36  12.25  13.16  14.09  15.04  16.01  17.  ]\n"
     ]
    }
   ],
   "source": [
    "## your code\n",
    "@np.vectorize\n",
    "def func(x):\n",
    "    if x < 0:\n",
    "        return (x**2 + 2*x + 6)\n",
    "    elif x <= 2:\n",
    "        return (x + 6)\n",
    "    else:\n",
    "        return (x**2 + 4*x -4)\n",
    "print(func(np.arange(-3,3.1,0.1)))\n",
    "   "
   ]
  },
  {
   "cell_type": "markdown",
   "metadata": {},
   "source": [
    "**8.** Из каждого элемента матрицы вычесть среднее арифметическое от всех элементов в соответствующей строке (после чего среднее значение каждой строки должно равняться нулю).\n",
    "\n",
    "Cм. [np.mean()](http://docs.scipy.org/doc/numpy/reference/generated/numpy.mean.html)."
   ]
  },
  {
   "cell_type": "code",
   "execution_count": 63,
   "metadata": {
    "collapsed": false
   },
   "outputs": [
    {
     "name": "stdout",
     "output_type": "stream",
     "text": [
      "[  5.55111512e-17   0.00000000e+00  -3.33066907e-17   4.44089210e-17\n",
      "  -5.55111512e-17   0.00000000e+00  -4.44089210e-17   7.77156117e-17\n",
      "  -3.33066907e-17  -2.22044605e-17]\n"
     ]
    }
   ],
   "source": [
    "X = np.random.random((10, 10))\n",
    "u = np.mean(X,axis = 1)\n",
    "Y = X.T - u;\n",
    "Y = Y.T\n",
    "print(np.mean(Y,axis=1))\n",
    "#print(u)\n",
    "#print(X)\n",
    "#print(Y)\n",
    "## your code"
   ]
  },
  {
   "cell_type": "markdown",
   "metadata": {},
   "source": [
    "**9.** Есть массив из 1000 чисел, полученных из генератора случайных чисел, имеющий нормальное распределение. Посчитайте выборочное среднее и выборочную дисперсию. "
   ]
  },
  {
   "cell_type": "code",
   "execution_count": 43,
   "metadata": {
    "collapsed": false
   },
   "outputs": [
    {
     "name": "stdout",
     "output_type": "stream",
     "text": [
      "4.91346293638\n",
      "3.99372124222\n"
     ]
    }
   ],
   "source": [
    "X = np.random.normal(loc=5, scale=2., size=1000)\n",
    "\n",
    "print(X.sum()/1000)\n",
    "print(((X.sum()/1000 - X)**2).sum()/1000 )\n"
   ]
  },
  {
   "cell_type": "markdown",
   "metadata": {},
   "source": [
    "**10.** Создать матрицу:\n",
    "\n",
    "$$\n",
    "\\begin{pmatrix}\n",
    "0 & 1 & 2 & 3 & 4 \\\\\n",
    "1 & 2 & 3 & 4 & 0 \\\\\n",
    "2 & 3 & 4 & 0 & 1 \\\\\n",
    "3 & 4 & 0 & 1 & 2 \\\\\n",
    "4 & 0 & 1 & 2 & 3\n",
    "\\end{pmatrix}\n",
    "$$"
   ]
  },
  {
   "cell_type": "code",
   "execution_count": 11,
   "metadata": {
    "collapsed": false
   },
   "outputs": [
    {
     "data": {
      "text/plain": [
       "array([[ 0.,  1.,  2.,  3.,  4.],\n",
       "       [ 1.,  2.,  3.,  4.,  0.],\n",
       "       [ 2.,  3.,  4.,  0.,  1.],\n",
       "       [ 3.,  4.,  0.,  1.,  2.],\n",
       "       [ 4.,  0.,  1.,  2.,  3.]])"
      ]
     },
     "execution_count": 11,
     "metadata": {},
     "output_type": "execute_result"
    }
   ],
   "source": [
    "## your code\n",
    "a = np.ones((5,5))\n",
    "b = np.arange(0,5)\n",
    "a = a*b\n",
    "a = a.T + b\n",
    "a = a%5\n",
    "a\n"
   ]
  }
 ],
 "metadata": {
  "kernelspec": {
   "display_name": "Python 3",
   "language": "python",
   "name": "python3"
  },
  "language_info": {
   "codemirror_mode": {
    "name": "ipython",
    "version": 3
   },
   "file_extension": ".py",
   "mimetype": "text/x-python",
   "name": "python",
   "nbconvert_exporter": "python",
   "pygments_lexer": "ipython3",
   "version": "3.6.0"
  }
 },
 "nbformat": 4,
 "nbformat_minor": 1
}
