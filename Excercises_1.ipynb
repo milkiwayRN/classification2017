{
 "cells": [
  {
   "cell_type": "markdown",
   "metadata": {
    "deletable": true,
    "editable": true
   },
   "source": [
    "# Задание 1\n",
    "\n",
    "[Свертка списка](https://ru.wikipedia.org/wiki/%D0%A1%D0%B2%D1%91%D1%80%D1%82%D0%BA%D0%B0_%D1%81%D0%BF%D0%B8%D1%81%D0%BA%D0%B0) -  это обобщенная операция над списком, c помощью которой можно преобразовать список в единое значение. Например рассмотрим реализации свертки слева и свертки справа (левоассоциативную свертку и правоассоциативную свертку):"
   ]
  },
  {
   "cell_type": "code",
   "execution_count": 37,
   "metadata": {
    "collapsed": true,
    "deletable": true,
    "editable": true
   },
   "outputs": [],
   "source": [
    "def foldl(f, x0, lst):\n",
    "    if not lst:\n",
    "        return x0\n",
    "    return foldl(f, f(x0, lst[0]), lst[1:])\n",
    "\n",
    "def foldr(f, x0, lst):\n",
    "    if not lst:\n",
    "        return x0\n",
    "    return f(lst[0], foldr(f, x0, lst[1:]))"
   ]
  },
  {
   "cell_type": "code",
   "execution_count": 10,
   "metadata": {
    "collapsed": false,
    "deletable": true,
    "editable": true
   },
   "outputs": [
    {
     "data": {
      "text/plain": [
       "1.5"
      ]
     },
     "execution_count": 10,
     "metadata": {},
     "output_type": "execute_result"
    }
   ],
   "source": [
    "#сумма\n",
    "foldr(lambda x, y: x / y, 1, [1, 2, 3])"
   ]
  },
  {
   "cell_type": "code",
   "execution_count": 10,
   "metadata": {
    "collapsed": false,
    "deletable": true,
    "editable": true
   },
   "outputs": [
    {
     "name": "stdout",
     "output_type": "stream",
     "text": [
      "0.8\n"
     ]
    }
   ],
   "source": [
    "#конкатенация\n",
    "a = 4;b =5\n",
    "foldr(lambda x, y: '{}{}'.format(x, y), '', [1, 2, 3])\n",
    "f = (lambda x, y: x / y)(a,b)\n",
    "print(f);"
   ]
  },
  {
   "cell_type": "code",
   "execution_count": 32,
   "metadata": {
    "collapsed": false,
    "deletable": true,
    "editable": true
   },
   "outputs": [
    {
     "data": {
      "text/plain": [
       "str"
      ]
     },
     "execution_count": 32,
     "metadata": {},
     "output_type": "execute_result"
    }
   ],
   "source": [
    "f = lambda x, y: x / y\n",
    "foldl(f, 1, [1, 2, 3]), \\\n",
    "foldr(f, 1, [1, 2, 3])\n",
    "type('23')\n"
   ]
  },
  {
   "cell_type": "code",
   "execution_count": 41,
   "metadata": {
    "collapsed": false
   },
   "outputs": [
    {
     "name": "stdout",
     "output_type": "stream",
     "text": [
      "<class 'function'>\n"
     ]
    },
    {
     "data": {
      "text/plain": [
       "'23'"
      ]
     },
     "execution_count": 41,
     "metadata": {},
     "output_type": "execute_result"
    }
   ],
   "source": [
    "def fold(f,x0,lst):\n",
    "    print(type(x0));\n",
    "    return x0;\n",
    "\n",
    "def foldl2(f, x0, lst):\n",
    "    return fold(f,lambda z,w:z + w,lst)('2','3');\n",
    "\n",
    "#foo = lambda x, y: x / y\n",
    "\n",
    "#foldl2(foo,1,[4,2,5]),\\\n",
    "#foldr(foo,1,[4,2,5]),\\\n",
    "#foldl(foo,1,[4,2,5])\n",
    "\n",
    "foo = lambda x,y: x + y;\n",
    "\n",
    "foldl2(foo,0,[2,3,4])\n"
   ]
  },
  {
   "cell_type": "markdown",
   "metadata": {
    "deletable": true,
    "editable": true
   },
   "source": [
    "Задача: реализовать foldl через foldr и наоборот. Вместо многоточий нужно вставить выражения, которые бы привели к нужному результату."
   ]
  },
  {
   "cell_type": "code",
   "execution_count": 21,
   "metadata": {
    "collapsed": false,
    "deletable": true,
    "editable": true
   },
   "outputs": [],
   "source": [
    "def foldr2(f, x0, lst):\n",
    "    return foldl(..., ..., lst)(...)"
   ]
  },
  {
   "cell_type": "markdown",
   "metadata": {
    "deletable": true,
    "editable": true
   },
   "source": [
    "# Задание 2\n",
    "\n",
    "нужно написать функцию, которая принимает две строки и проверяет, входит ли хотя бы одна перестановка второй строки в первую. Например:\n",
    "\n",
    "> a = 'abcrotm'\n",
    "> \n",
    "> b = 'tro'\n",
    "\n",
    "функция def check_inv(a, b) вернет True, так как 'rot' содержится в 'abcrotm'. Нужно подумать как можно более оптимальный алгоритм и оценить его сложность. \n",
    "\n",
    "\n",
    "\n",
    "----------------------\\----------------------------------------------\\--------------------------------\n",
    "\n",
    "Сложность алгоритма O(n), где n - длина строки а\n",
    "\n"
   ]
  },
  {
   "cell_type": "code",
   "execution_count": 3,
   "metadata": {
    "collapsed": false,
    "deletable": true,
    "editable": true
   },
   "outputs": [
    {
     "data": {
      "text/plain": [
       "True"
      ]
     },
     "execution_count": 3,
     "metadata": {},
     "output_type": "execute_result"
    }
   ],
   "source": [
    "from collections import defaultdict\n",
    "def check_inv(a, b):\n",
    "    \n",
    "    dict_b = defaultdict(int)\n",
    "    \n",
    "    for i in b:\n",
    "        dict_b[i]+=1\n",
    "        \n",
    "    temp_dict = defaultdict(int)\n",
    "    \n",
    "    flag = 0\n",
    "    \n",
    "    for i in a:\n",
    "        if dict_b.get(i,-1) == -1 and flag == 0:\n",
    "            continue\n",
    "        elif dict_b.get(i,-1) == -1 and flag == 1:\n",
    "            if (dict_b == temp_dict):\n",
    "                return True\n",
    "            temp_dict.clear()\n",
    "            flag = 0\n",
    "            continue\n",
    "        elif dict_b.get(i,-1) != -1:\n",
    "            temp_dict[i] += 1\n",
    "            flag = 1\n",
    "         \n",
    "    if (dict_b == temp_dict):\n",
    "                return True   \n",
    "    return False\n",
    "\n",
    "\n",
    "a = 'abcrotm'\n",
    "b = 'tro'\n",
    "            \n",
    "check_inv(a,b)\n"
   ]
  },
  {
   "cell_type": "markdown",
   "metadata": {
    "deletable": true,
    "editable": true
   },
   "source": [
    "# Задание 3\n",
    "\n",
    "Реализовать бинарное дерево (класс Tree), в нём методы __repr__, __str__, __iter__ (итерация только по листьям)."
   ]
  },
  {
   "cell_type": "code",
   "execution_count": 21,
   "metadata": {
    "collapsed": false,
    "deletable": true,
    "editable": true
   },
   "outputs": [
    {
     "name": "stdout",
     "output_type": "stream",
     "text": [
      "True\n",
      "3 , 4 , 1 , 2 , 0\n"
     ]
    }
   ],
   "source": [
    "class Tree:\n",
    "    def __init__(self, value=None, left=None, right=None):\n",
    "        self.left = left\n",
    "        self.right = right\n",
    "        self.value = value\n",
    "        \n",
    "    def __iter__(self):\n",
    "        temp = self\n",
    "        \n",
    "        if temp.left == None and temp.right == None:\n",
    "            yield temp.value\n",
    "        else:\n",
    "            if temp.left != None:\n",
    "                for i in temp.left:\n",
    "                    yield i\n",
    "            if temp.right != None:\n",
    "                for i in temp.right:\n",
    "                    yield i\n",
    "    \n",
    "    def __str__(self):\n",
    "        temp = self\n",
    "        tempstr = ''\n",
    "        \n",
    "        if temp.left != None:\n",
    "            tempstr += temp.left.__str__()\n",
    "        if temp.right != None:\n",
    "            if tempstr != '':\n",
    "                tempstr =tempstr + ' , ' + temp.right.__str__()\n",
    "            else:\n",
    "                tempstr += temp.right.__str__()\n",
    "        if tempstr != '':    \n",
    "            tempstr = tempstr + ' , ' +  str(temp.value) \n",
    "        else:\n",
    "            tempstr = str(temp.value)\n",
    "        return(tempstr)\n",
    "             \n",
    "    \n",
    "    def __repr__(self):\n",
    "        temp = self\n",
    "        tempstr = ''\n",
    "        \n",
    "        if temp.left != None:\n",
    "            tempstr += temp.left.__str__()\n",
    "        if temp.right != None:\n",
    "            if tempstr != '':\n",
    "                tempstr =tempstr + ' , ' + temp.right.__str__()\n",
    "            else:\n",
    "                tempstr += temp.right.__str__()\n",
    "        if tempstr != '':    \n",
    "            tempstr = tempstr + ' , ' +  str(temp.value) \n",
    "        else:\n",
    "            tempstr = str(temp.value)\n",
    "        return(tempstr)\n",
    "    \n",
    "tree = Tree(0, Tree(1, Tree(3), Tree(4)),                             \n",
    "               Tree(2))\n",
    "\n",
    "print(list(tree) == [3, 4, 2])\n",
    "\n",
    "print(tree)"
   ]
  },
  {
   "cell_type": "markdown",
   "metadata": {
    "collapsed": true,
    "deletable": true,
    "editable": true
   },
   "source": [
    "# Задание 4\n",
    "\n",
    "Реализовать простейший калькулятор математических выражений:\n",
    "- только целые числа\n",
    "- **+**, **\\-**, **\\***, **\\**\n",
    "- скобки"
   ]
  },
  {
   "cell_type": "code",
   "execution_count": null,
   "metadata": {
    "collapsed": false
   },
   "outputs": [],
   "source": [
    "#def calc(expr):\n",
    "#    pass\n",
    "\n",
    "#calc('2 * (15 - 3 * 4) - 2') == 4"
   ]
  },
  {
   "cell_type": "code",
   "execution_count": 3,
   "metadata": {
    "collapsed": false
   },
   "outputs": [
    {
     "data": {
      "text/plain": [
       "4"
      ]
     },
     "execution_count": 3,
     "metadata": {},
     "output_type": "execute_result"
    }
   ],
   "source": [
    "class Stack:\n",
    "     def __init__(self):\n",
    "         self.items = []\n",
    "\n",
    "     def isEmpty(self):\n",
    "         return self.items == []\n",
    "\n",
    "     def push(self, item):\n",
    "         self.items.append(item)\n",
    "\n",
    "     def pop(self):\n",
    "         return self.items.pop()\n",
    "\n",
    "     def peek(self):\n",
    "         return self.items[len(self.items)-1]\n",
    "\n",
    "     def size(self):\n",
    "         return len(self.items)\n",
    "        \n",
    "        \n",
    "def priority(x):\n",
    "    if x == '(':\n",
    "        return 0\n",
    "    elif x == ')':\n",
    "        return 1\n",
    "    elif x == '+' or x == '-':\n",
    "        return 2\n",
    "    elif x == '*' or x == '\\\\':\n",
    "        return 3\n",
    "    return -1\n",
    "\n",
    "# rec_descent_new - создает стек с обратной польской записью\n",
    "def rec_descent_new(a):\n",
    "    pars = Stack() \n",
    "    tempw = ''\n",
    "    ans = []\n",
    "    \n",
    "    for i in a:\n",
    "        if i.isdigit():\n",
    "            tempw += i\n",
    "            \n",
    "        elif priority(i) != -1:\n",
    "            if tempw != '':\n",
    "                ans.append(int(tempw))\n",
    "                tempw = ''\n",
    "            prior = priority(i)\n",
    "            if  not pars.isEmpty() and prior > 0:\n",
    "                el = priority(pars.peek())\n",
    "                while(el >= prior):\n",
    "                    ans.append(pars.pop())\n",
    "                    if not pars.isEmpty():\n",
    "                        el = priority(pars.peek())\n",
    "                    else :break\n",
    "            if(prior != 1):\n",
    "                pars.push(i)\n",
    "            else:\n",
    "                el = pars.pop()\n",
    "                \n",
    "        else:\n",
    "            if tempw != '':\n",
    "                ans.append(int(tempw))\n",
    "                tempw = ''\n",
    "       \n",
    "    if(tempw != ''):\n",
    "        ans.append(int(tempw))\n",
    "    while(not pars.isEmpty()):\n",
    "        ans.append(pars.pop())\n",
    "    return ans    \n",
    "\n",
    "        \n",
    "x = '2 * (15 - 3 * 4) - 2'\n",
    "\n",
    "def calc(x):\n",
    "    polska = rec_descent_new(x) \n",
    "    #print(polska)\n",
    "    instack = Stack()\n",
    "    for i in polska:\n",
    "        if type(i) == type(0):\n",
    "            instack.push(i)\n",
    "        else:\n",
    "            b = instack.pop()\n",
    "            a = instack.pop()\n",
    "            if(i == '+'):\n",
    "                instack.push(a + b)\n",
    "            elif(i == '-'):\n",
    "                instack.push(a - b)\n",
    "            elif(i == '*'):\n",
    "                instack.push(a * b)\n",
    "            elif(i == '\\\\'):\n",
    "                instack.push(a / b)\n",
    "    return instack.pop()\n",
    "\n",
    "\n",
    "calc(x)"
   ]
  }
 ],
 "metadata": {
  "kernelspec": {
   "display_name": "Python 3",
   "language": "python",
   "name": "python3"
  },
  "language_info": {
   "codemirror_mode": {
    "name": "ipython",
    "version": 3
   },
   "file_extension": ".py",
   "mimetype": "text/x-python",
   "name": "python",
   "nbconvert_exporter": "python",
   "pygments_lexer": "ipython3",
   "version": "3.6.0"
  }
 },
 "nbformat": 4,
 "nbformat_minor": 0
}
